{
  "nbformat": 4,
  "nbformat_minor": 0,
  "metadata": {
    "colab": {
      "provenance": [],
      "authorship_tag": "ABX9TyPeW3fdpu945p5+XRkuZ2GC",
      "include_colab_link": true
    },
    "kernelspec": {
      "name": "python3",
      "display_name": "Python 3"
    },
    "language_info": {
      "name": "python"
    }
  },
  "cells": [
    {
      "cell_type": "markdown",
      "metadata": {
        "id": "view-in-github",
        "colab_type": "text"
      },
      "source": [
        "<a href=\"https://colab.research.google.com/github/tsourolampis/bu-cs630-fall23/blob/main/Mystery_function.ipynb\" target=\"_parent\"><img src=\"https://colab.research.google.com/assets/colab-badge.svg\" alt=\"Open In Colab\"/></a>"
      ]
    },
    {
      "cell_type": "code",
      "execution_count": 2,
      "metadata": {
        "id": "-81DJPaGsLsk"
      },
      "outputs": [],
      "source": [
        "import matplotlib.pyplot as plt\n",
        "import numpy as np"
      ]
    },
    {
      "cell_type": "code",
      "source": [
        "def mystery_function(a, b, T=100):\n",
        "    if b >= a or a <= 0 or b <= 0:\n",
        "        raise ValueError(\"Ensure 0 < b < a\")\n",
        "\n",
        "    x, y = a, b\n",
        "    sequence = [(x, y)]\n",
        "\n",
        "    for _ in range(T):\n",
        "        x_next = (x + y) / 2\n",
        "        y_next = 2 * x * y / (x + y)\n",
        "        sequence.append((x_next, y_next))\n",
        "        x, y = x_next, y_next\n",
        "\n",
        "    return sequence\n",
        "\n",
        "\n",
        "def visualize_sequence(sequence):\n",
        "    x_vals, y_vals = zip(*sequence)\n",
        "\n",
        "    plt.scatter(x_vals, y_vals, color='blue')\n",
        "    for i in range(len(sequence)-1):\n",
        "        x1, y1 = sequence[i]\n",
        "        x2, y2 = sequence[i+1]\n",
        "        t = np.linspace(0, 1, 100)\n",
        "        plt.plot((1-t)*x1 + t*x2, (1-t)*y1 + t*y2, color='red')\n",
        "\n",
        "    plt.xlabel('x')\n",
        "    plt.ylabel('y')\n",
        "    plt.title('Visualization of Sequence')\n",
        "    plt.grid(True)\n",
        "    plt.show()\n",
        "\n",
        "\n",
        "\n",
        "\n",
        "# Example usage:\n",
        "a = 100000\n",
        "b = 1\n",
        "T = 100\n",
        "sequence = mystery_function(a, b, T)\n",
        "visualize_sequence(sequence)"
      ],
      "metadata": {
        "colab": {
          "base_uri": "https://localhost:8080/",
          "height": 472
        },
        "id": "lDDVaCywul2t",
        "outputId": "fbf11efe-9637-4420-bdc2-8835f071d674"
      },
      "execution_count": 4,
      "outputs": [
        {
          "output_type": "display_data",
          "data": {
            "text/plain": [
              "<Figure size 640x480 with 1 Axes>"
            ],
            "image/png": "[encoded data removed]"
          },
          "metadata": {}
        }
      ]
    },
    {
      "cell_type": "code",
      "source": [
        "sequence[0:20]"
      ],
      "metadata": {
        "id": "jDts_scMsbot",
        "colab": {
          "base_uri": "https://localhost:8080/"
        },
        "outputId": "1730761c-47f1-4dd8-e6c0-3a9cb7a271c1"
      },
      "execution_count": 10,
      "outputs": [
        {
          "output_type": "execute_result",
          "data": {
            "text/plain": [
              "[(100000, 1),\n",
              " (50000.5, 1.999980000199998),\n",
              " (25001.2499900001, 3.999800011599324),\n",
              " (12502.624895005849, 7.998320419893972),\n",
              " (6255.311607712872, 15.986413830559432),\n",
              " (3135.6490107717154, 31.891324461531163),\n",
              " (1583.7701676166232, 63.14047457434278),\n",
              " (823.455321095483, 121.43949700508959),\n",
              " (472.4474090502863, 211.66377057929049),\n",
              " (342.0555898147884, 292.3501412567081),\n",
              " (317.2028655357483, 315.25566400890585),\n",
              " (316.22926477232704, 316.2262672684521),\n",
              " (316.2277660203896, 316.2277660132862),\n",
              " (316.2277660168379, 316.2277660168379),\n",
              " (316.2277660168379, 316.2277660168379),\n",
              " (316.2277660168379, 316.2277660168379),\n",
              " (316.2277660168379, 316.2277660168379),\n",
              " (316.2277660168379, 316.2277660168379),\n",
              " (316.2277660168379, 316.2277660168379),\n",
              " (316.2277660168379, 316.2277660168379)]"
            ]
          },
          "metadata": {},
          "execution_count": 10
        }
      ]
    },
    {
      "cell_type": "code",
      "source": [
        "import math\n",
        "math.sqrt(a*b)"
      ],
      "metadata": {
        "colab": {
          "base_uri": "https://localhost:8080/"
        },
        "id": "p7MjCkYPUClX",
        "outputId": "7d9f86e3-6d0f-428b-f60b-6b2d45cef931"
      },
      "execution_count": 8,
      "outputs": [
        {
          "output_type": "execute_result",
          "data": {
            "text/plain": [
              "316.22776601683796"
            ]
          },
          "metadata": {},
          "execution_count": 8
        }
      ]
    },
    {
      "cell_type": "code",
      "source": [],
      "metadata": {
        "id": "oOSAQeCxUG4G"
      },
      "execution_count": null,
      "outputs": []
    }
  ]
}