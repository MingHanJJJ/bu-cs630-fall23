{
 "cells": [
  {
   "cell_type": "code",
   "execution_count": 1,
   "id": "9fd98cf7",
   "metadata": {},
   "outputs": [],
   "source": [
    "import time\n",
    "import random"
   ]
  },
  {
   "cell_type": "markdown",
   "id": "7492d65b",
   "metadata": {},
   "source": [
    "# Implementation of Gale-Shapley using lists and arrays"
   ]
  },
  {
   "cell_type": "code",
   "execution_count": 2,
   "id": "28d75bfd",
   "metadata": {},
   "outputs": [],
   "source": [
    "men_preferences = [\n",
    "    [0, 1, 2],\n",
    "    [1, 2, 0],\n",
    "    [2, 0, 1]\n",
    "]\n",
    "\n",
    "women_preferences = [\n",
    "    [0, 1, 2],\n",
    "    [1, 0, 2],\n",
    "    [2, 0, 1]\n",
    "]"
   ]
  },
  {
   "cell_type": "code",
   "execution_count": 3,
   "id": "902228df",
   "metadata": {},
   "outputs": [],
   "source": [
    "def gale_shapley(men_preferences, women_preferences):\n",
    "    n = len(men_preferences)\n",
    "   \n",
    "    # Initialize empty matching\n",
    "    matching = [-1] * n\n",
    "    free_men = list(range(n))\n",
    "    \n",
    "\n",
    "    preference_rank = [[0]*n for _ in range(n)]\n",
    "    for woman in range(n):\n",
    "        for rank, man in enumerate(women_preferences[woman]):\n",
    "            preference_rank[woman][man] = rank\n",
    "    \n",
    "    while free_men:\n",
    "        man = free_men.pop(0)\n",
    "        man_preferences = men_preferences[man]\n",
    "        \n",
    "        for woman in man_preferences:\n",
    "            # If woman is unmatched, match her with the man\n",
    "            if woman not in matching:\n",
    "                matching[man] = woman\n",
    "                break\n",
    "            else:\n",
    "                # Find the current partner of the woman\n",
    "                current_partner = matching.index(woman)\n",
    "                \n",
    "                # constant time lookup in this way\n",
    "                if preference_rank[woman][man] < preference_rank[woman][current_partner]:\n",
    "                    # Unmatch the current partner\n",
    "                    matching[current_partner] = -1\n",
    "                    free_men.append(current_partner)\n",
    "                    \n",
    "                    # Match the new man\n",
    "                    matching[man] = woman\n",
    "                    break\n",
    "    return matching"
   ]
  },
  {
   "cell_type": "code",
   "execution_count": 4,
   "id": "e15a94ef",
   "metadata": {},
   "outputs": [
    {
     "name": "stdout",
     "output_type": "stream",
     "text": [
      "Stable Matching: [0, 1, 2]\n"
     ]
    }
   ],
   "source": [
    "result = gale_shapley(men_preferences, women_preferences)\n",
    "print('Stable Matching:', result)"
   ]
  },
  {
   "cell_type": "markdown",
   "id": "708bf52d",
   "metadata": {},
   "source": [
    "Let's test the runtimes and create an average case input."
   ]
  },
  {
   "cell_type": "code",
   "execution_count": 5,
   "id": "a22d377e",
   "metadata": {},
   "outputs": [],
   "source": [
    "def generate_random_permutations(n):\n",
    "    permutations = []\n",
    "    lst = list(range(n))\n",
    "    for _ in range(n):\n",
    "        shuffled_lst = lst.copy()\n",
    "        random.shuffle(shuffled_lst)\n",
    "        permutations.append(shuffled_lst)\n",
    "    return permutations"
   ]
  },
  {
   "cell_type": "code",
   "execution_count": 6,
   "id": "22eab5e6",
   "metadata": {},
   "outputs": [
    {
     "name": "stdout",
     "output_type": "stream",
     "text": [
      "Time taken for O(n^2) implementation: 5.896630048751831 seconds\n"
     ]
    }
   ],
   "source": [
    "n = 5000\n",
    "men_preferences  = generate_random_permutations(n)\n",
    "women_preferences  = generate_random_permutations(n)\n",
    " \n",
    "start_time = time.time()\n",
    "result = gale_shapley(men_preferences, women_preferences)\n",
    "end_time = time.time()\n",
    "elapsed_time = end_time - start_time\n",
    "print(f'Time taken for O(n^2) implementation: {elapsed_time} seconds')\n"
   ]
  },
  {
   "cell_type": "code",
   "execution_count": null,
   "id": "0981340b",
   "metadata": {},
   "outputs": [],
   "source": []
  }
 ],
 "metadata": {
  "kernelspec": {
   "display_name": "Python 3 (ipykernel)",
   "language": "python",
   "name": "python3"
  },
  "language_info": {
   "codemirror_mode": {
    "name": "ipython",
    "version": 3
   },
   "file_extension": ".py",
   "mimetype": "text/x-python",
   "name": "python",
   "nbconvert_exporter": "python",
   "pygments_lexer": "ipython3",
   "version": "3.11.4"
  }
 },
 "nbformat": 4,
 "nbformat_minor": 5
}
