{
  "nbformat": 4,
  "nbformat_minor": 0,
  "metadata": {
    "colab": {
      "provenance": [],
      "authorship_tag": "ABX9TyPhiyslisfFwmSOblUzcUY1",
      "include_colab_link": true
    },
    "kernelspec": {
      "name": "python3",
      "display_name": "Python 3"
    },
    "language_info": {
      "name": "python"
    }
  },
  "cells": [
    {
      "cell_type": "markdown",
      "metadata": {
        "id": "view-in-github",
        "colab_type": "text"
      },
      "source": [
        "<a href=\"https://colab.research.google.com/github/tsourolampis/bu-cs630-fall23/blob/main/Priority_Queue.ipynb\" target=\"_parent\"><img src=\"https://colab.research.google.com/assets/colab-badge.svg\" alt=\"Open In Colab\"/></a>"
      ]
    },
    {
      "cell_type": "code",
      "execution_count": 5,
      "metadata": {
        "id": "he9xSfaWvcmp"
      },
      "outputs": [],
      "source": [
        "import heapq"
      ]
    },
    {
      "cell_type": "code",
      "source": [
        "class PQ:\n",
        "    def __init__(self):\n",
        "        self.queue = []\n",
        "\n",
        "    def push(self, value):\n",
        "        heapq.heappush(self.queue, value)\n",
        "\n",
        "    def pop(self):\n",
        "        return heapq.heappop(self.queue)\n",
        "\n",
        "    def peek(self):\n",
        "        return self.queue[0] if self.queue else None\n",
        "\n",
        "    def is_empty(self):\n",
        "        return len(self.queue) == 0\n",
        "\n",
        "    def size(self):\n",
        "        return len(self.queue)\n",
        "\n",
        "def heap_sort(arr):\n",
        "    h = PQ()\n",
        "    for value in arr:\n",
        "        h.push(value)\n",
        "\n",
        "    return [h.pop() for _ in range(len(arr))]\n"
      ],
      "metadata": {
        "id": "l6hgRNBEvjKa"
      },
      "execution_count": 6,
      "outputs": []
    },
    {
      "cell_type": "code",
      "source": [
        "def sorting_demo():\n",
        "    # Priority Queue Demo\n",
        "    pq = PQ()\n",
        "    pq.push(3)\n",
        "    pq.push(1)\n",
        "    pq.push(4)\n",
        "    pq.push(2)\n",
        "    print(\"Priority Queue Peek (should be 1):\", pq.peek())\n",
        "\n",
        "    print(\"Priority Queue Pop (should be 1, 2, 3, 4):\")\n",
        "    while not pq.is_empty():\n",
        "        print(pq.pop(), end=' ')\n",
        "    print()  # for new line\n",
        "\n",
        "    # Heap Sort Demo\n",
        "    arr = [3, 1, 4, 1, 5, 9, 2, 6, -4, 20]\n",
        "    sorted_arr = heap_sort(arr)\n",
        "    print(\"Heap Sort:\", sorted_arr)\n",
        "\n",
        "sorting_demo()"
      ],
      "metadata": {
        "colab": {
          "base_uri": "https://localhost:8080/"
        },
        "id": "VNgSVGFdvlyR",
        "outputId": "26ba41cf-abc5-4b52-ac23-2ee6e971d6c0"
      },
      "execution_count": 8,
      "outputs": [
        {
          "output_type": "stream",
          "name": "stdout",
          "text": [
            "Priority Queue Peek (should be 1): 1\n",
            "Priority Queue Pop (should be 1, 2, 3, 4):\n",
            "1 2 3 4 \n",
            "Heap Sort: [-4, 1, 1, 2, 3, 4, 5, 6, 9, 20]\n"
          ]
        }
      ]
    },
    {
      "cell_type": "code",
      "source": [],
      "metadata": {
        "id": "dsaulYbQvm8A"
      },
      "execution_count": null,
      "outputs": []
    }
  ]
}